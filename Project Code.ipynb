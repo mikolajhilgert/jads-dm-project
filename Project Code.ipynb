{
 "cells": [
  {
   "cell_type": "markdown",
   "metadata": {},
   "source": [
    "# Data Mining Assignment 1"
   ]
  },
  {
   "cell_type": "markdown",
   "metadata": {},
   "source": [
    "# Introduction"
   ]
  },
  {
   "cell_type": "markdown",
   "metadata": {},
   "source": [
    "### Contextualising the problem\n",
    "\n",
    "**Data mining** is a field that focuses on extracting insights and patterns from large datasets. That as of itself already constitutes a strong argument in favour of using such a process when tackling business problems, but there is still more to it.\n",
    "\n",
    "\n",
    "\n",
    "As such, this project proposes to answer the following problem statement and research questions:\n",
    "\n",
    "\n",
    "\n",
    "### Expanding on the business objectives of the project (Business Understanding)\n",
    "\n",
    "\n",
    "\n",
    "### Data Mining Methodology \n",
    "\n",
    "The Cross-Industry Standard Process for Data Mining (CRISP-DM) Methodology was used to build the deliverable of the assignment (it is pictured below). It organizes the data mining project in six phases (Business Understanding, Data Understanding, Data preparation, Modeling, Evaluation and Deployment).\n",
    "\n",
    "<div style=\"text-align: center;\">\n",
    "    <img src=\"https://upload.wikimedia.org/wikipedia/commons/thumb/b/b9/CRISP-DM_Process_Diagram.png/639px-CRISP-DM_Process_Diagram.png\" alt=\"CRISP-DM Process\" style=\"width:400px;height:400px;margin-top: 20px;\">\n",
    "</div>\n",
    "\n",
    "Figure 2: CRISP-DM Process Diagram \n",
    "\n",
    "1. *Business Understanding*: This process involves \n",
    "\n",
    "2. *Data Understanding*: The dataset contains \n",
    "\n",
    "3. *Data Preparation*: This is the \n",
    "\n",
    "4. *Modelling*: In this phase \n",
    "\n",
    "5. *Evaluation*: The models will be evaluated based on the success criteria discussed in business objective i.e. \n",
    "\n",
    "6. *Deployment*: This step is omitted."
   ]
  },
  {
   "cell_type": "markdown",
   "metadata": {},
   "source": [
    "# Data Understanding"
   ]
  },
  {
   "cell_type": "markdown",
   "metadata": {},
   "source": [
    "### Importing modules"
   ]
  },
  {
   "cell_type": "code",
   "execution_count": null,
   "metadata": {},
   "outputs": [
    {
     "name": "stdout",
     "output_type": "stream",
     "text": [
      "Note: you may need to restart the kernel to use updated packages.\n"
     ]
    }
   ],
   "source": [
    "%pip install -r requirements.txt -q"
   ]
  },
  {
   "cell_type": "code",
   "execution_count": null,
   "metadata": {},
   "outputs": [],
   "source": [
    "import pandas as pd\n",
    "import os"
   ]
  },
  {
   "cell_type": "code",
   "execution_count": null,
   "metadata": {},
   "outputs": [],
   "source": [
    "# Function to get column names and descriptions\n",
    "def get_column_descriptions(file_path, names_dict):\n",
    "    df = pd.read_csv(file_path, encoding='ISO-8859-1')\n",
    "    column_names = df.columns\n",
    "    descriptions = names_dict[names_dict['Variable Name'].isin(column_names)]\n",
    "    return descriptions\n",
    "\n",
    "# Load the NAMES Dictionary\n",
    "names_dict_path = './variable_description.xlsx'\n",
    "names_dict = pd.read_excel(names_dict_path)\n",
    "\n",
    "# Iterate through each CSV file and get column descriptions\n",
    "data_folder = './data'\n",
    "csv_files = ['demographic.csv', 'diet.csv', 'examination.csv', 'labs.csv', 'medications.csv', 'questionnaire.csv']\n",
    "\n",
    "for csv_file in csv_files:\n",
    "    file_path = os.path.join(data_folder, csv_file)\n",
    "    descriptions = get_column_descriptions(file_path, names_dict)\n",
    "    print(f\"Descriptions for {csv_file}:\")\n",
    "    for index, row in descriptions.iterrows():\n",
    "        print(row.to_dict())"
   ]
  }
 ],
 "metadata": {
  "kernelspec": {
   "display_name": "Python 3",
   "language": "python",
   "name": "python3"
  },
  "language_info": {
   "codemirror_mode": {
    "name": "ipython",
    "version": 3
   },
   "file_extension": ".py",
   "mimetype": "text/x-python",
   "name": "python",
   "nbconvert_exporter": "python",
   "pygments_lexer": "ipython3",
   "version": "3.11.9"
  }
 },
 "nbformat": 4,
 "nbformat_minor": 2
}
